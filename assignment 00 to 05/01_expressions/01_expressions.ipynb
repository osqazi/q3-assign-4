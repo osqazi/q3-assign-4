{
  "cells": [
    {
      "cell_type": "markdown",
      "metadata": {
        "colab_type": "text",
        "id": "view-in-github"
      },
      "source": [
        "<a href=\"https://colab.research.google.com/github/soobiarao14/Assingment_4_projcet_python/blob/main/assignment%2000%20to%2005/01_expressions/01_expressions.ipynb\" target=\"_parent\"><img src=\"https://colab.research.google.com/assets/colab-badge.svg\" alt=\"Open In Colab\"/></a>"
      ]
    },
    {
      "cell_type": "code",
      "execution_count": 4,
      "metadata": {
        "colab": {
          "base_uri": "https://localhost:8080/"
        },
        "id": "sFuziSPoVMKI",
        "outputId": "73c9623d-cd8d-475d-9298-f3272ba40040"
      },
      "outputs": [
        {
          "name": "stdout",
          "output_type": "stream",
          "text": [
            "01_dicesimulator\n",
            "die1 in main() starts as: 10\n",
            "Total of two dice: 6\n",
            "Total of two dice: 4\n",
            "Total of two dice: 5\n",
            "die1 in main() is: 10\n"
          ]
        }
      ],
      "source": [
        "import random\n",
        "print(\"01_dicesimulator\")\n",
        "\n",
        "def roll_dice():\n",
        "    die1:int = random.randint(1,6)  # Random roll for die1\n",
        "    die2:int = random.randint(1,6)  # Random roll for die2\n",
        "    total:int = die1 + die2  # Sum of the two dice\n",
        "    print(f'Total of two dice: {total}')  # Display the sum of the two dice\n",
        "\n",
        "def main():\n",
        "    die1:int = 10  # Initial value of die1 set to 10\n",
        "    print(\"die1 in main() starts as: \" + str(die1))  # Print the initial value of die1\n",
        "    roll_dice()  # Call the roll_dice function to simulate a dice roll and display result\n",
        "    roll_dice()  # Call the roll_dice function again for a new dice roll\n",
        "    roll_dice()  # Call the roll_dice function a third time for another roll\n",
        "    print(\"die1 in main() is: \" + str(die1))  # Print die1, which remains unchanged as 10\n",
        "\n",
        "if __name__ == \"__main__\":\n",
        "    main()  # Run the main function to execute the dice simulation\n"
      ]
    },
    {
      "cell_type": "code",
      "execution_count": 5,
      "metadata": {
        "colab": {
          "base_uri": "https://localhost:8080/"
        },
        "id": "rU2hcYF_Ywmr",
        "outputId": "b41575b4-be22-4961-95f8-d23b10146ed2"
      },
      "outputs": [
        {
          "name": "stdout",
          "output_type": "stream",
          "text": [
            "02_e=mc2\n"
          ]
        },
        {
          "ename": "ValueError",
          "evalue": "could not convert string to float: ''",
          "output_type": "error",
          "traceback": [
            "\u001b[1;31m---------------------------------------------------------------------------\u001b[0m",
            "\u001b[1;31mValueError\u001b[0m                                Traceback (most recent call last)",
            "Cell \u001b[1;32mIn[5], line 12\u001b[0m\n\u001b[0;32m      9\u001b[0m     \u001b[38;5;28mprint\u001b[39m(\u001b[38;5;124m\"\u001b[39m\u001b[38;5;124me = \u001b[39m\u001b[38;5;124m\"\u001b[39m \u001b[38;5;241m+\u001b[39m \u001b[38;5;28mstr\u001b[39m(m \u001b[38;5;241m*\u001b[39m c \u001b[38;5;241m*\u001b[39m\u001b[38;5;241m*\u001b[39m \u001b[38;5;241m2\u001b[39m) \u001b[38;5;241m+\u001b[39m \u001b[38;5;124m\"\u001b[39m\u001b[38;5;124m joules\u001b[39m\u001b[38;5;124m\"\u001b[39m)  \u001b[38;5;66;03m# Calculate and display the energy in joules\u001b[39;00m\n\u001b[0;32m     11\u001b[0m \u001b[38;5;28;01mif\u001b[39;00m \u001b[38;5;18m__name__\u001b[39m \u001b[38;5;241m==\u001b[39m \u001b[38;5;124m\"\u001b[39m\u001b[38;5;124m__main__\u001b[39m\u001b[38;5;124m\"\u001b[39m:\n\u001b[1;32m---> 12\u001b[0m     \u001b[43menergy\u001b[49m\u001b[43m(\u001b[49m\u001b[43m)\u001b[49m  \u001b[38;5;66;03m# Call the energy function to calculate and display the energy\u001b[39;00m\n\u001b[0;32m     13\u001b[0m \u001b[38;5;241m130\u001b[39m\n",
            "Cell \u001b[1;32mIn[5], line 5\u001b[0m, in \u001b[0;36menergy\u001b[1;34m()\u001b[0m\n\u001b[0;32m      3\u001b[0m \u001b[38;5;28;01mdef\u001b[39;00m\u001b[38;5;250m \u001b[39m\u001b[38;5;21menergy\u001b[39m():\n\u001b[0;32m      4\u001b[0m     c:\u001b[38;5;28mfloat\u001b[39m \u001b[38;5;241m=\u001b[39m \u001b[38;5;241m299792458\u001b[39m  \u001b[38;5;66;03m# Speed of light in meters per second\u001b[39;00m\n\u001b[1;32m----> 5\u001b[0m     m:\u001b[38;5;28mfloat\u001b[39m \u001b[38;5;241m=\u001b[39m \u001b[38;5;28;43mfloat\u001b[39;49m\u001b[43m(\u001b[49m\u001b[38;5;28;43minput\u001b[39;49m\u001b[43m(\u001b[49m\u001b[38;5;124;43m\"\u001b[39;49m\u001b[38;5;124;43mEnter mass in kilograms: \u001b[39;49m\u001b[38;5;124;43m\"\u001b[39;49m\u001b[43m)\u001b[49m\u001b[43m)\u001b[49m  \u001b[38;5;66;03m# Input for mass in kilograms\u001b[39;00m\n\u001b[0;32m      6\u001b[0m     \u001b[38;5;28mprint\u001b[39m(\u001b[38;5;124m\"\u001b[39m\u001b[38;5;124me = m*c^2\u001b[39m\u001b[38;5;124m\"\u001b[39m)  \u001b[38;5;66;03m# Display the famous equation\u001b[39;00m\n\u001b[0;32m      7\u001b[0m     \u001b[38;5;28mprint\u001b[39m(\u001b[38;5;124m\"\u001b[39m\u001b[38;5;124mMass = \u001b[39m\u001b[38;5;124m\"\u001b[39m \u001b[38;5;241m+\u001b[39m \u001b[38;5;28mstr\u001b[39m(m) \u001b[38;5;241m+\u001b[39m \u001b[38;5;124m\"\u001b[39m\u001b[38;5;124m kg\u001b[39m\u001b[38;5;124m\"\u001b[39m)  \u001b[38;5;66;03m# Show the entered mass in kilograms\u001b[39;00m\n",
            "\u001b[1;31mValueError\u001b[0m: could not convert string to float: ''"
          ]
        }
      ],
      "source": [
        "print(\"02_e=mc2\")\n",
        "\n",
        "def energy():\n",
        "    c:float = 299792458  # Speed of light in meters per second\n",
        "    m:float = float(input(\"Enter mass in kilograms: \"))  # Input for mass in kilograms\n",
        "    print(\"e = m*c^2\")  # Display the famous equation\n",
        "    print(\"Mass = \" + str(m) + \" kg\")  # Show the entered mass in kilograms\n",
        "    print(\"C = \"+ str(c) + \" m/s\")  # Show the speed of light in meters per second\n",
        "    print(\"e = \" + str(m * c ** 2) + \" joules\")  # Calculate and display the energy in joules\n",
        "\n",
        "if __name__ == \"__main__\":\n",
        "    energy()  # Call the energy function to calculate and display the energy\n",
        "130"
      ]
    },
    {
      "cell_type": "code",
      "execution_count": null,
      "metadata": {
        "colab": {
          "base_uri": "https://localhost:8080/"
        },
        "id": "vLvICUFBZbDH",
        "outputId": "e370ab03-cdf4-4566-e13e-e917d0ce3639"
      },
      "outputs": [
        {
          "name": "stdout",
          "output_type": "stream",
          "text": [
            "03_feet_to_inches\n",
            "Enter feet and i will convert into inches. 45\n",
            "There are 540 inches in 45 feet.\n"
          ]
        }
      ],
      "source": [
        "\n",
        "print(\"03_feet_to_inches\")\n",
        "\n",
        "inch: int = 12\n",
        "\n",
        "def foot():\n",
        "  feet:int = int(input(\"Enter feet and i will convert into inches. \"))\n",
        "  print(f'There are {inch * feet} inches in {feet} feet.')\n",
        "\n",
        "if __name__== \"__main__\":\n",
        "  foot()"
      ]
    },
    {
      "cell_type": "code",
      "execution_count": null,
      "metadata": {
        "colab": {
          "base_uri": "https://localhost:8080/"
        },
        "id": "pUICUZfXaGsB",
        "outputId": "fb4e1b9f-f321-42d6-fd6e-a27b8cc8b938"
      },
      "outputs": [
        {
          "name": "stdout",
          "output_type": "stream",
          "text": [
            "04_pythagorean_theorem\n",
            "Enter the length of the side ab. 4\n",
            "Enter the length of the side ac. 7\n",
            "The length of bc (the hypothenuse is : 8.06225774829855)\n"
          ]
        }
      ],
      "source": [
        "import math\n",
        "print(\"04_pythagorean_theorem\")\n",
        "\n",
        "def triangle():\n",
        "  ab:float = float(input(\"Enter the length of the side ab. \"))\n",
        "  ac:float = float(input(\"Enter the length of the side ac. \"))\n",
        "  bc:float = math.sqrt(ab**2 + ac**2)\n",
        "  print(f'The length of bc (the hypothenuse is : {bc})')\n",
        "\n",
        "if __name__==\"__main__\":\n",
        "  triangle()"
      ]
    },
    {
      "cell_type": "code",
      "execution_count": null,
      "metadata": {
        "colab": {
          "base_uri": "https://localhost:8080/"
        },
        "id": "aDcZ03Pqalb2",
        "outputId": "60b65c6e-9838-4878-88a5-cc2a0e782470"
      },
      "outputs": [
        {
          "name": "stdout",
          "output_type": "stream",
          "text": [
            "05_remainder_division\n",
            "Enter an integer to be divided: 12\n",
            "Enter an integer to divide by: 13\n",
            "The result of following division is 0 with the reminder of 12\n"
          ]
        }
      ],
      "source": [
        "\n",
        "print(\"05_remainder_division\")\n",
        "\n",
        "def reminder():\n",
        "  num1:int = int(input(\"Enter an integer to be divided: \"))\n",
        "  num2:int = int(input(\"Enter an integer to divide by: \"))\n",
        "  quotient:int = num1 // num2\n",
        "  remainder:int = num1 % num2\n",
        "  print(f'The result of following division is {quotient} with the reminder of {remainder}')\n",
        "\n",
        "if __name__ == \"__main__\":\n",
        "  reminder()"
      ]
    },
    {
      "cell_type": "code",
      "execution_count": null,
      "metadata": {
        "colab": {
          "base_uri": "https://localhost:8080/"
        },
        "id": "K8D9vCaNaxYm",
        "outputId": "d911a8ec-659f-4a95-9ca5-e21e652b9758"
      },
      "outputs": [
        {
          "name": "stdout",
          "output_type": "stream",
          "text": [
            "06_rolldice.\n",
            "First die: 1\n",
            "Second die:2\n",
            "Total of two dies : 3\n"
          ]
        }
      ],
      "source": [
        "\n",
        "import random\n",
        "print(\"06_rolldice.\")\n",
        "\n",
        "def dice():\n",
        "  die1:int= random.randint(1,6)\n",
        "  die2:int  = random.randint(1,6)\n",
        "  total:int = int(die1 + die2)\n",
        "  print(\"First die: \" + str(die1))\n",
        "  print(\"Second die:\" + str(die2))\n",
        "  print(f'Total of two dies : {total}' )\n",
        "\n",
        "if __name__==\"__main__\":\n",
        "  dice()"
      ]
    },
    {
      "cell_type": "code",
      "execution_count": null,
      "metadata": {
        "colab": {
          "base_uri": "https://localhost:8080/"
        },
        "id": "TtT1nkbga82Y",
        "outputId": "8159a36f-28a6-4c20-ef47-3c1baeeb6e8a"
      },
      "outputs": [
        {
          "name": "stdout",
          "output_type": "stream",
          "text": [
            "06_seconds_in_year\n",
            "There are 31536000 seconds in a year!\n"
          ]
        }
      ],
      "source": [
        "\n",
        "print(\"06_seconds_in_year\")\n",
        "\n",
        "days_in_year:int = 365\n",
        "hours_per_day:int = 24\n",
        "minutes_per_hour:int = 60\n",
        "seconds_per_minute:int = 60\n",
        "\n",
        "def seconds():\n",
        "  print(f'There are {days_in_year * hours_per_day * minutes_per_hour * seconds_per_minute} seconds in a year!')\n",
        "\n",
        "if __name__==\"__main__\":\n",
        "  seconds()"
      ]
    },
    {
      "cell_type": "code",
      "execution_count": 7,
      "metadata": {
        "colab": {
          "base_uri": "https://localhost:8080/"
        },
        "id": "FN1j2TrdbSrl",
        "outputId": "b4a30703-c3fd-428e-f5de-27556585cd00"
      },
      "outputs": [
        {
          "name": "stdout",
          "output_type": "stream",
          "text": [
            "7_tiny_mad_lib\n",
            "Do you love your shy cat?\n"
          ]
        }
      ],
      "source": [
        "\n",
        "\n",
        "print(\"7_tiny_mad_lib\")\n",
        "\n",
        "def mad_lib():\n",
        "  noun:str = str(input(\"Enter a noun: \"))\n",
        "  adjective:str = str(input(\"Enter an adjective: \"))\n",
        "  verb:str = str(input(\"Enter a verb: \"))\n",
        "  print(f\"Do you {verb} your {adjective} {noun}?\")\n",
        "\n",
        "\n",
        "\n",
        "if __name__==\"__main__\":\n",
        "  mad_lib()"
      ]
    }
  ],
  "metadata": {
    "colab": {
      "authorship_tag": "ABX9TyMMNqJf7db7h9okav6dRhj0",
      "include_colab_link": true,
      "provenance": []
    },
    "kernelspec": {
      "display_name": "Python 3",
      "name": "python3"
    },
    "language_info": {
      "codemirror_mode": {
        "name": "ipython",
        "version": 3
      },
      "file_extension": ".py",
      "mimetype": "text/x-python",
      "name": "python",
      "nbconvert_exporter": "python",
      "pygments_lexer": "ipython3",
      "version": "3.13.2"
    }
  },
  "nbformat": 4,
  "nbformat_minor": 0
}
