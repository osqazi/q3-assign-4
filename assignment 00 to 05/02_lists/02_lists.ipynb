{
  "cells": [
    {
      "cell_type": "markdown",
      "metadata": {
        "colab_type": "text",
        "id": "view-in-github"
      },
      "source": [
        "<a href=\"https://colab.research.google.com/github/soobiarao14/Assingment_4_projcet_python/blob/main/assignment%2000%20to%2005/02_lists/02_lists.ipynb\" target=\"_parent\"><img src=\"https://colab.research.google.com/assets/colab-badge.svg\" alt=\"Open In Colab\"/></a>"
      ]
    },
    {
      "cell_type": "code",
      "execution_count": 6,
      "metadata": {
        "colab": {
          "base_uri": "https://localhost:8080/"
        },
        "id": "Pv2IpV4Dy5jP",
        "outputId": "1fd939c2-97a9-4aef-9743-348f666000d5"
      },
      "outputs": [
        {
          "name": "stdout",
          "output_type": "stream",
          "text": [
            "01_add_many_number\n",
            "21\n"
          ]
        }
      ],
      "source": [
        "print(\"01_add_many_number\")\n",
        "\n",
        "def add_numbers(numbers)->int:\n",
        "  num:int = 0\n",
        "  for n in numbers:\n",
        "    num += n\n",
        "\n",
        "  return num\n",
        "\n",
        "def main():\n",
        "  numbers:list[int] = [1,2,3,4,5,6]\n",
        "  sum:int = add_numbers(numbers)\n",
        "  print(sum)\n",
        "\n",
        "if __name__ == \"__main__\":\n",
        "    main()"
      ]
    },
    {
      "cell_type": "code",
      "execution_count": 2,
      "metadata": {
        "colab": {
          "base_uri": "https://localhost:8080/"
        },
        "id": "wn-8zfXmzKun",
        "outputId": "70ee2b94-71f3-4d03-f62e-0c4a676d2a90"
      },
      "outputs": [
        {
          "name": "stdout",
          "output_type": "stream",
          "text": [
            "02_double_list\n",
            "[2, 4, 6, 8, 10]\n"
          ]
        }
      ],
      "source": [
        "print(\"02_double_list\")\n",
        "\n",
        "def main():\n",
        "  numbers:list[int] =[1,2,3,4,5]\n",
        "  for i in range(len(numbers)):\n",
        "    index = numbers[i]\n",
        "    numbers[i] = index * 2\n",
        "  print(numbers)\n",
        "\n",
        "if __name__ == \"__main__\":\n",
        "  main()"
      ]
    },
    {
      "cell_type": "code",
      "execution_count": 9,
      "metadata": {
        "colab": {
          "base_uri": "https://localhost:8080/"
        },
        "id": "NFwu1s2e3sQ1",
        "outputId": "3e74bd9b-85be-4c44-9615-55dcc57986a0"
      },
      "outputs": [
        {
          "name": "stdout",
          "output_type": "stream",
          "text": [
            "04_flowing_with_data_structures\n",
            "List before: []\n",
            "List after: ['python', 'python', 'python']\n"
          ]
        }
      ],
      "source": [
        "\n",
        "print(\"04_flowing_with_data_structures\")\n",
        "\n",
        "def add_copies(my_list,data):\n",
        "  for i in range(3):\n",
        "    my_list.append(data)\n",
        "\n",
        "def main():\n",
        "  message = input(\"Enter a message to copy: \")\n",
        "  my_list = []\n",
        "  print(\"List before:\",my_list)\n",
        "  add_copies(my_list,message)\n",
        "  print(\"List after:\",my_list)\n",
        "\n",
        "if __name__ == \"__main__\":\n",
        "  main()"
      ]
    },
    {
      "cell_type": "code",
      "execution_count": 22,
      "metadata": {
        "colab": {
          "base_uri": "https://localhost:8080/"
        },
        "id": "0T7sZ5zg4H1w",
        "outputId": "7a1081bf-b849-4bd9-bceb-d35df43a2e10"
      },
      "outputs": [
        {
          "name": "stdout",
          "output_type": "stream",
          "text": [
            "05_get_first_element\n",
            "The Full List: ['Python', 'Javascript', 'HTML', 'Next.Js']\n",
            "The First Element is: Python\n"
          ]
        }
      ],
      "source": [
        "\n",
        "print(\"05_get_first_element\")\n",
        "\n",
        "def get_first_element(lst):\n",
        "  print(\"The Full List:\", lst)\n",
        "  print(\"The First Element is:\", lst[0])\n",
        "  \n",
        "\n",
        "def get_lst():\n",
        "  lst = []\n",
        "  while True:\n",
        "    element = input(\"Enter an element to add to the list or Press Enter to Stop: \")\n",
        "    if element == \"\":\n",
        "      break\n",
        "    lst.append(element)\n",
        "  return lst\n",
        "\n",
        "def main():\n",
        "  lst = get_lst()\n",
        "  get_first_element(lst)\n",
        "\n",
        "if __name__ == \"__main__\":\n",
        "  main()"
      ]
    },
    {
      "cell_type": "code",
      "execution_count": 23,
      "metadata": {
        "colab": {
          "base_uri": "https://localhost:8080/"
        },
        "id": "SHWXk7ME4bt-",
        "outputId": "ee1a3f68-c86a-44eb-f34f-1736c00934ab"
      },
      "outputs": [
        {
          "name": "stdout",
          "output_type": "stream",
          "text": [
            "06_get_last_element\n",
            "5\n"
          ]
        }
      ],
      "source": [
        "print(\"06_get_last_element\")\n",
        "\n",
        "def get_last_element(lst):\n",
        "  print(lst[-1])\n",
        "\n",
        "def main():\n",
        "  lst = [1,2,3,4,5]\n",
        "  get_last_element(lst)\n",
        "\n",
        "if __name__ == \"__main__\":\n",
        "  main()"
      ]
    },
    {
      "cell_type": "code",
      "execution_count": 24,
      "metadata": {
        "colab": {
          "base_uri": "https://localhost:8080/"
        },
        "id": "xgoJBEyW5vw3",
        "outputId": "a5b7df6b-5aa6-4cfc-bbf5-0e8cfbf377b1"
      },
      "outputs": [
        {
          "name": "stdout",
          "output_type": "stream",
          "text": [
            "07_get_list\n",
            "Here is the list:  ['hello', 'world', 'this', 'is', 'the', 'basic']\n"
          ]
        }
      ],
      "source": [
        "print(\"07_get_list\")\n",
        "\n",
        "def main():\n",
        "  lst = []\n",
        "  val = input(\"Enter a value to add to the list: \")\n",
        "  while val:\n",
        "    lst.append(val)\n",
        "    val = input(\"Enter a value to add to the list: \")\n",
        "  print(\"Here is the list: \", lst)\n",
        "\n",
        "if __name__ == \"__main__\":\n",
        "  main()"
      ]
    },
    {
      "cell_type": "code",
      "execution_count": 42,
      "metadata": {
        "colab": {
          "base_uri": "https://localhost:8080/"
        },
        "id": "s6Zgloyk47FV",
        "outputId": "5679e4cb-5582-428e-9953-e23ee107ee2a"
      },
      "outputs": [
        {
          "name": "stdout",
          "output_type": "stream",
          "text": [
            "08_shorten\n",
            "\n",
            "Element Removed from from index no. 8 : SanityCMS\n",
            "Element Removed from from index no. 7 : React.Js\n",
            "Element Removed from from index no. 6 : TailwindCSS\n",
            "Element Removed from from index no. 5 : Next.Js\n",
            "Element Removed from from index no. 4 : Typescript\n",
            "Element Removed from from index no. 3 : CSS\n",
            "The List is Shortened to required lenght :3 = ['Python', 'Javascript', 'HTML']\n"
          ]
        }
      ],
      "source": [
        "print(\"08_shorten\\n\")\n",
        "\n",
        "def shorten(lst):\n",
        "  MAX_LENGTH = int(input(\"Enter the Length of List: \"))\n",
        "  while len(lst) > MAX_LENGTH:\n",
        "    element_idx = lst.index(lst[-1])\n",
        "    last_element = lst.pop()\n",
        "    print(f'Element Removed from from index no. {element_idx} : {last_element}')\n",
        "  print(f'The List is Shortened to required lenght :{MAX_LENGTH} = {lst}')\n",
        " \n",
        "def get_lst():\n",
        "  lst = []\n",
        "  while True:\n",
        "    element = input(\"Enter an element to add to the list: \")\n",
        "    if element == \"\":\n",
        "      break\n",
        "    lst.append(element)\n",
        "  return lst\n",
        "\n",
        "def main():\n",
        "  lst = get_lst()\n",
        "  shorten(lst)\n",
        "\n",
        "if __name__ == \"__main__\":\n",
        "  main()"
      ]
    }
  ],
  "metadata": {
    "colab": {
      "authorship_tag": "ABX9TyPjmt/cJhwxIkdJRdXafwik",
      "include_colab_link": true,
      "provenance": []
    },
    "kernelspec": {
      "display_name": "Python 3",
      "name": "python3"
    },
    "language_info": {
      "codemirror_mode": {
        "name": "ipython",
        "version": 3
      },
      "file_extension": ".py",
      "mimetype": "text/x-python",
      "name": "python",
      "nbconvert_exporter": "python",
      "pygments_lexer": "ipython3",
      "version": "3.13.2"
    }
  },
  "nbformat": 4,
  "nbformat_minor": 0
}
