{
  "cells": [
    {
      "cell_type": "markdown",
      "metadata": {
        "colab_type": "text",
        "id": "view-in-github"
      },
      "source": [
        "<a href=\"https://colab.research.google.com/github/soobiarao14/Assingment_4_projcet_python/blob/main/assignment%2000%20to%2005/06_functions/06_functions.ipynb\" target=\"_parent\"><img src=\"https://colab.research.google.com/assets/colab-badge.svg\" alt=\"Open In Colab\"/></a>"
      ]
    },
    {
      "cell_type": "code",
      "execution_count": 3,
      "metadata": {
        "colab": {
          "base_uri": "https://localhost:8080/"
        },
        "id": "cOFldvK4cs4H",
        "outputId": "e8076039-4713-48fd-8152-99fbf03b4c74"
      },
      "outputs": [
        {
          "name": "stdout",
          "output_type": "stream",
          "text": [
            "00_averages\n",
            "avg 1: 7.5\n",
            "avg 2: 8.5\n",
            "final average of both: 8.0\n"
          ]
        }
      ],
      "source": [
        "#00\n",
        "print(\"00_averages\")\n",
        "def average(a: float, b: float):\n",
        "    \"\"\"\n",
        "    Returns the number which is half way between a and b\n",
        "    \"\"\"\n",
        "    sum = a + b\n",
        "    return sum / 2\n",
        "\n",
        "def main():\n",
        "    avg_1 = average(3, 12)\n",
        "    avg_2 = average(5, 12)\n",
        "\n",
        "    final = average(avg_1, avg_2)\n",
        "    print(\"avg 1:\", avg_1)\n",
        "    print(\"avg 2:\", avg_2)\n",
        "    print(\"final average of both:\", final)\n",
        "\n",
        "\n",
        "# There is no need to edit code beyond this point\n",
        "\n",
        "if __name__ == '__main__':\n",
        "    main()"
      ]
    },
    {
      "cell_type": "code",
      "execution_count": 13,
      "metadata": {
        "colab": {
          "base_uri": "https://localhost:8080/"
        },
        "id": "JrdErKk-fOVD",
        "outputId": "7a375a12-1ffb-4d7f-a443-48d872447689"
      },
      "outputs": [
        {
          "name": "stdout",
          "output_type": "stream",
          "text": [
            " 01_chaotic_counting\n",
            "I will count from 1 to 10, but I might stop randomly before reaching 10!\n",
            "1\n",
            "Counting has finished!\n"
          ]
        }
      ],
      "source": [
        "print(\" 01_chaotic_counting\")\n",
        "\n",
        "import random\n",
        "\n",
        "# Define DONE_LIKELIHOOD here, before it's used\n",
        "DONE_LIKELIHOOD = 0.3  # For example, a 30% chance of stopping\n",
        "\n",
        "def chaotic_counting():\n",
        "    for i in range(10):\n",
        "        curr_num = i + 1\n",
        "        if done():\n",
        "            return # this ends the function execution, so we'll get back to the main() function!\n",
        "        print(curr_num)\n",
        "\n",
        "# There is no need to edit code beyond this point\n",
        "\n",
        "def done():\n",
        "    \"\"\" Returns True with a probability of DONE_LIKELIHOOD \"\"\"\n",
        "    if random.random() < DONE_LIKELIHOOD:\n",
        "        return True\n",
        "    return False\n",
        "\n",
        "def main():\n",
        "    print(\"I will count from 1 to 10, but I might stop randomly before reaching 10!\")\n",
        "    chaotic_counting()\n",
        "    print(\"Counting has finished!\")\n",
        "\n",
        "if __name__ == \"__main__\":\n",
        "    main()\n"
      ]
    },
    {
      "cell_type": "code",
      "execution_count": 15,
      "metadata": {
        "colab": {
          "base_uri": "https://localhost:8080/"
        },
        "id": "tUYrpdfIfsk4",
        "outputId": "449e7b8d-a262-44fc-c5ef-fde3039aaabb"
      },
      "outputs": [
        {
          "name": "stdout",
          "output_type": "stream",
          "text": [
            "02_count_even\n",
            "Number of even numbers in the list: 3\n"
          ]
        }
      ],
      "source": [
        "print(\"02_count_even\")\n",
        "def count_even(lst):\n",
        "    \"\"\"\n",
        "    Returns number of even numbers in list.\n",
        "    >>> count_even([1,2,3,4])\n",
        "    2\n",
        "    >>> count_even([1,3,5,7])\n",
        "    0\n",
        "    \"\"\"\n",
        "    count = 0  # Stores the count of even numbers in the list\n",
        "    for num in lst:\n",
        "        if num % 2 == 0:\n",
        "            count += 1\n",
        "\n",
        "    print(f\"Number of even numbers in the list: {count}\")  # Updated print statement\n",
        "\n",
        "def get_list_of_ints():\n",
        "    \"\"\"\n",
        "    Reads in integers until the user presses enter and returns the resulting list.\n",
        "    \"\"\"\n",
        "    lst = []\n",
        "    user_input = input(\"Enter an integer or press enter to stop: \")\n",
        "    while user_input != \"\":\n",
        "        lst.append(int(user_input))\n",
        "        user_input = input(\"Enter an integer or press enter to stop: \")\n",
        "\n",
        "    return lst\n",
        "\n",
        "def main():\n",
        "    lst = get_list_of_ints()\n",
        "    count_even(lst)\n",
        "\n",
        "if __name__ == '__main__':\n",
        "    main()\n",
        "\n"
      ]
    },
    {
      "cell_type": "code",
      "execution_count": null,
      "metadata": {
        "id": "DD4ejG_qikDm"
      },
      "outputs": [],
      "source": [
        "\"Program No. 3 is Missing.\""
      ]
    },
    {
      "cell_type": "code",
      "execution_count": 19,
      "metadata": {
        "colab": {
          "base_uri": "https://localhost:8080/"
        },
        "id": "dZzJ8g6kimhg",
        "outputId": "dbc16fbb-45e8-4036-b080-155cc3ccfc15"
      },
      "outputs": [
        {
          "name": "stdout",
          "output_type": "stream",
          "text": [
            "04_double.\n",
            "Double of your Number 789 is 1578\n"
          ]
        }
      ],
      "source": [
        "print(\"04_double.\")\n",
        "def double(num: int):\n",
        "    return num * 2\n",
        "\n",
        "# There is no need to edit code beyond this point\n",
        "\n",
        "def main():\n",
        "    num = int(input(\"Enter a number: \"))\n",
        "    num_times_2 = double(num)\n",
        "    print(f\"Double of your Number {num} is {num*2}\")\n",
        "\n",
        "if __name__ == '__main__':\n",
        "    main()"
      ]
    },
    {
      "cell_type": "code",
      "execution_count": 20,
      "metadata": {
        "colab": {
          "base_uri": "https://localhost:8080/"
        },
        "id": "Ir2EIrhKjHHh",
        "outputId": "a0063262-4e86-401f-c92f-d052a3951796"
      },
      "outputs": [
        {
          "name": "stdout",
          "output_type": "stream",
          "text": [
            "05_get_name\n",
            "Hello Owais Qazi ! 😄\n"
          ]
        }
      ],
      "source": [
        "print(\"05_get_name\")\n",
        "def get_name():\n",
        "    return \"Owais Qazi\"\n",
        "\n",
        "# There is no need to edit code beyond this point\n",
        "\n",
        "def main():\n",
        "    name = get_name() # get_name() will return a string which we store to the 'name' variable here\n",
        "    print(\"Hello\", name, \"! 😄\")\n",
        "\n",
        "if __name__ == '__main__':\n",
        "    main()"
      ]
    },
    {
      "cell_type": "code",
      "execution_count": 22,
      "metadata": {
        "colab": {
          "base_uri": "https://localhost:8080/"
        },
        "id": "aleYfMPbkrsY",
        "outputId": "64dcf244-17a9-4d41-c2f9-bfd4a42bd79a"
      },
      "outputs": [
        {
          "name": "stdout",
          "output_type": "stream",
          "text": [
            "06_is_odd\n",
            "0 is an even number.\n",
            "1 is an odd number.\n",
            "2 is an even number.\n",
            "3 is an odd number.\n",
            "4 is an even number.\n",
            "5 is an odd number.\n",
            "6 is an even number.\n",
            "7 is an odd number.\n",
            "8 is an even number.\n",
            "9 is an odd number.\n",
            "10 is an even number.\n",
            "11 is an odd number.\n",
            "12 is an even number.\n",
            "13 is an odd number.\n",
            "14 is an even number.\n",
            "15 is an odd number.\n",
            "16 is an even number.\n",
            "17 is an odd number.\n",
            "18 is an even number.\n",
            "19 is an odd number.\n"
          ]
        }
      ],
      "source": [
        "print(\"06_is_odd\")\n",
        "def main():\n",
        "    for i in range(20):\n",
        "        if is_odd(i):\n",
        "            print(f\"{i} is an odd number.\")\n",
        "        else:\n",
        "            print(f\"{i} is an even number.\")\n",
        "\n",
        "def is_odd(value: int):\n",
        "    \"\"\"\n",
        "    Checks to see if a value is odd. If it is, returns true.\n",
        "    \"\"\"\n",
        "    remainder = value % 2  # 0 if value is divisible by 2, 1 if it isn't\n",
        "    return remainder != 0\n",
        "\n",
        "if __name__ == '__main__':\n",
        "    main()\n"
      ]
    },
    {
      "cell_type": "code",
      "execution_count": 26,
      "metadata": {
        "colab": {
          "base_uri": "https://localhost:8080/"
        },
        "id": "2VWuZWU_k-UO",
        "outputId": "d29cedfb-6d68-4a2f-bfed-ba9b598394e0"
      },
      "outputs": [
        {
          "name": "stdout",
          "output_type": "stream",
          "text": [
            "07_print_divisor\n",
            "🔍 Finding all divisors of 100...\n",
            "✅ 1 is a divisor of 100\n",
            "✅ 2 is a divisor of 100\n",
            "✅ 4 is a divisor of 100\n",
            "✅ 5 is a divisor of 100\n",
            "✅ 10 is a divisor of 100\n",
            "✅ 20 is a divisor of 100\n",
            "✅ 25 is a divisor of 100\n",
            "✅ 50 is a divisor of 100\n",
            "✅ 100 is a divisor of 100\n"
          ]
        }
      ],
      "source": [
        "print(\"07_print_divisor\")\n",
        "def print_divisors(num: int):\n",
        "    print(f\"🔍 Finding all divisors of {num}...\")\n",
        "    for i in range(num):\n",
        "        curr_divisor = i + 1\n",
        "        if num % curr_divisor == 0:\n",
        "            print(f\"✅ {curr_divisor} is a divisor of {num}\")\n",
        "\n",
        "def main():\n",
        "    num = int(input(\"Enter a number: \"))\n",
        "    print_divisors(num)\n",
        "\n",
        "if __name__ == '__main__':\n",
        "    main()\n"
      ]
    },
    {
      "cell_type": "code",
      "execution_count": 29,
      "metadata": {
        "colab": {
          "base_uri": "https://localhost:8080/"
        },
        "id": "YLQxJMV4l0hf",
        "outputId": "9300e572-a135-4575-e052-8bc161bb16b5"
      },
      "outputs": [
        {
          "name": "stdout",
          "output_type": "stream",
          "text": [
            "08_print_multiple\n",
            "\n",
            "Repeating your message 5 times:\n",
            "🔁 Hello Brother! How are You?\n",
            "🔁 Hello Brother! How are You?\n",
            "🔁 Hello Brother! How are You?\n",
            "🔁 Hello Brother! How are You?\n",
            "🔁 Hello Brother! How are You?\n"
          ]
        }
      ],
      "source": [
        "print(\"08_print_multiple\")\n",
        "\n",
        "def print_multiple(message: str, repeats: int):\n",
        "    for i in range(repeats):\n",
        "        print(f\"🔁 {message}\")  # Added a loop output with an emoji for better display\n",
        "\n",
        "def main():\n",
        "    message = input(\"Please type a message: \")\n",
        "    repeats = int(input(\"Enter a number of times to repeat your message: \"))\n",
        "    print(f\"\\nRepeating your message {repeats} times:\")\n",
        "    print_multiple(message, repeats)\n",
        "\n",
        "if __name__ == '__main__':\n",
        "    main()\n"
      ]
    },
    {
      "cell_type": "code",
      "execution_count": 30,
      "metadata": {
        "colab": {
          "base_uri": "https://localhost:8080/"
        },
        "id": "g2FUvw-Lmsc7",
        "outputId": "088534b2-6bf5-4c21-9fd1-f33af7ba50bb"
      },
      "outputs": [
        {
          "name": "stdout",
          "output_type": "stream",
          "text": [
            "09_sentence_generator\n",
            "Great! Now, let's classify it.\n",
            "Here's a fun sentence: 'I am excited to add this Owais to my vast collection of them!'\n"
          ]
        }
      ],
      "source": [
        "print(\"09_sentence_generator\")\n",
        "\n",
        "def make_sentence(word, part_of_speech):\n",
        "    if part_of_speech == 0:\n",
        "        # noun\n",
        "        print(f\"Here's a fun sentence: 'I am excited to add this {word} to my vast collection of them!'\")\n",
        "    elif part_of_speech == 1:\n",
        "        # verb\n",
        "        print(f\"Here's a fun sentence: 'It's so nice outside today it makes me want to {word}!'\")\n",
        "    elif part_of_speech == 2:\n",
        "        # adjective\n",
        "        print(f\"Here's a fun sentence: 'Looking out my window, the sky is big and {word}!'\")\n",
        "    else:\n",
        "        # part_of_speech is invalid (not 0, 1, or 2)\n",
        "        print(\"Oops! Part of speech must be 0, 1, or 2. Can't make a sentence.\")\n",
        "\n",
        "def main():\n",
        "    word = input(\"Please type a noun, verb, or adjective: \")\n",
        "    print(\"Great! Now, let's classify it.\")\n",
        "    part_of_speech = int(input(\"Type 0 for noun, 1 for verb, 2 for adjective: \"))\n",
        "    make_sentence(word, part_of_speech)\n",
        "\n",
        "if __name__ == '__main__':\n",
        "    main()\n"
      ]
    },
    {
      "cell_type": "code",
      "execution_count": 33,
      "metadata": {
        "colab": {
          "base_uri": "https://localhost:8080/"
        },
        "id": "o_V9iqmjnHSe",
        "outputId": "476b1545-07ed-4421-f4ac-6b6220b03ff5"
      },
      "outputs": [
        {
          "name": "stdout",
          "output_type": "stream",
          "text": [
            "10_print_ones_digit\n",
            "The ones digit of 56 is 6.\n"
          ]
        }
      ],
      "source": [
        "print(\"10_print_ones_digit\")\n",
        "\n",
        "def print_ones_digit(num):\n",
        "    print(f\"The ones digit of {num} is {num % 10}.\")\n",
        "\n",
        "def main():\n",
        "    num = int(input(\"Enter a number: \"))\n",
        "    print_ones_digit(num)\n",
        "\n",
        "if __name__ == '__main__':\n",
        "    main()\n"
      ]
    }
  ],
  "metadata": {
    "colab": {
      "authorship_tag": "ABX9TyMJx5sITxdkk1LQ4OTAtZkO",
      "include_colab_link": true,
      "provenance": []
    },
    "kernelspec": {
      "display_name": "Python 3",
      "name": "python3"
    },
    "language_info": {
      "codemirror_mode": {
        "name": "ipython",
        "version": 3
      },
      "file_extension": ".py",
      "mimetype": "text/x-python",
      "name": "python",
      "nbconvert_exporter": "python",
      "pygments_lexer": "ipython3",
      "version": "3.13.2"
    }
  },
  "nbformat": 4,
  "nbformat_minor": 0
}
