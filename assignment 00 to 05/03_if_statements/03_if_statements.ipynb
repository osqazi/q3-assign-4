{
  "cells": [
    {
      "cell_type": "markdown",
      "metadata": {
        "colab_type": "text",
        "id": "view-in-github"
      },
      "source": [
        "<a href=\"https://colab.research.google.com/github/soobiarao14/Assingment_4_projcet_python/blob/main/assignment%2000%20to%2005/03_if_statements/03_if_statements.ipynb\" target=\"_parent\"><img src=\"https://colab.research.google.com/assets/colab-badge.svg\" alt=\"Open In Colab\"/></a>"
      ]
    },
    {
      "cell_type": "code",
      "execution_count": 10,
      "metadata": {
        "colab": {
          "base_uri": "https://localhost:8080/"
        },
        "id": "WKXHzeNx7mT5",
        "outputId": "f8c67bd3-d0c9-44e4-eaab-e08be2376e3c"
      },
      "outputs": [
        {
          "name": "stdout",
          "output_type": "stream",
          "text": [
            "01_print_desired_even_from_the_provided_range\n",
            "Here are the even numbers from 1 to 100: \n",
            "2\n",
            "4\n",
            "6\n",
            "8\n",
            "10\n",
            "12\n",
            "14\n",
            "16\n",
            "18\n",
            "20\n",
            "22\n",
            "24\n",
            "26\n",
            "28\n",
            "30\n",
            "32\n",
            "34\n",
            "36\n",
            "38\n",
            "40\n",
            "42\n",
            "44\n",
            "46\n",
            "48\n",
            "50\n"
          ]
        }
      ],
      "source": [
        "print(\"01_print_desired_even_from_the_provided_range\")\n",
        "\n",
        "start_rng = int(input(\"Enter Starting number of range: \"))\n",
        "end_rng = int(input(\"Enter Ending Number of Range: \"))\n",
        "even_count = int(input(\"How many even numbers do you want to print from provided range? \"))\n",
        "def even():\n",
        "  print(f\"Here are the even numbers from {start_rng} to {end_rng}: \")\n",
        "  count: int = 0\n",
        "  for i in range(start_rng, end_rng + 1):\n",
        "    if (i % 2 == 0):\n",
        "     \n",
        "      print(i)\n",
        "      count += 1\n",
        "      if count == even_count:\n",
        "        break\n",
        "    i += 1\n",
        "      \n",
        "if __name__ == \"__main__\":\n",
        "  even()"
      ]
    },
    {
      "cell_type": "code",
      "execution_count": 17,
      "metadata": {
        "colab": {
          "base_uri": "https://localhost:8080/"
        },
        "id": "ivhlElho8EFS",
        "outputId": "6411dfcf-9fb3-4e56-b8bc-f20a9c76ad29"
      },
      "outputs": [
        {
          "name": "stdout",
          "output_type": "stream",
          "text": [
            "02_international_voting_age\n",
            "Your age is 48.you are not eligible to vote in Peturksbouipo!\n",
            "Your age is 48.you are not eligible to vote in Stanlau!\n",
            "Your age is 48.you are eligible to vote in Mayengua!\n"
          ]
        }
      ],
      "source": [
        "print(\"02_international_voting_age\")\n",
        "\n",
        "Peturksbouipo:int = 16\n",
        "Stanlau:int = 25\n",
        "Mayengua:int = 48\n",
        "age:int = int(input(\"How old are you?\"))\n",
        "\n",
        "def main():\n",
        "\n",
        "  if age >= Peturksbouipo and age < Stanlau:\n",
        "    print(f\"Your age is {age}.you are eligible to vote in Peturksbouipo!\")\n",
        "  else:\n",
        "    print(f\"Your age is {age}.you are not eligible to vote in Peturksbouipo!\")\n",
        "\n",
        "\n",
        "  if age >= Stanlau and age < Mayengua:\n",
        "      print(f\"Your age is {age}.you are eligible to vote in Stanlau!\")\n",
        "  else:\n",
        "      print(f\"Your age is {age}.you are not eligible to vote in Stanlau!\")\n",
        "\n",
        "\n",
        "  if age >= Mayengua:\n",
        "      print(f\"Your age is {age}.you are eligible to vote in Mayengua!\")\n",
        "  else:\n",
        "      print(f\"Your age is {age}.you are not eligible to vote in Mayengua!\")\n",
        "\n",
        "if __name__ == \"__main__\":\n",
        "  main()"
      ]
    },
    {
      "cell_type": "code",
      "execution_count": 30,
      "metadata": {
        "colab": {
          "base_uri": "https://localhost:8080/"
        },
        "id": "Sa-X4FiA8SXI",
        "outputId": "3cdf4f6d-97a4-42f5-866a-25904d686cd2"
      },
      "outputs": [
        {
          "name": "stdout",
          "output_type": "stream",
          "text": [
            "03_leap_year\n",
            "2028 is a leap year.\n"
          ]
        }
      ],
      "source": [
        "print(\"03_leap_year\")\n",
        "\n",
        "def leap_year():\n",
        "  year:int = int(input(\"Enter as year.\"))\n",
        "\n",
        "  if year % 4 == 0:\n",
        "    if year % 100 == 0:\n",
        "      if year % 400 == 0:\n",
        "        print(f'{year} is a leap year.')\n",
        "      else:\n",
        "        print(f\"{year} is not a leap year.\")\n",
        "    else:\n",
        "      print(f'{year} is a leap year.')\n",
        "  else:\n",
        "    print(f\"{year} is not a leap year.\")\n",
        "\n",
        "if __name__ == \"__main__\":\n",
        "  leap_year()\n"
      ]
    },
    {
      "cell_type": "code",
      "execution_count": 32,
      "metadata": {
        "colab": {
          "base_uri": "https://localhost:8080/"
        },
        "id": "kEL8ZsDA8dk3",
        "outputId": "6a7f3157-6c66-4d97-d093-a0ad0d9fc756"
      },
      "outputs": [
        {
          "name": "stdout",
          "output_type": "stream",
          "text": [
            "04_tall_enough_to_ride\n",
            "you are tall enough to ride\n"
          ]
        }
      ],
      "source": [
        "print(\"04_tall_enough_to_ride\")\n",
        "\n",
        "min_height:int = 50\n",
        "def main():\n",
        "  user:int = int(input(\"How tall are you (in inches)? \"))\n",
        "  if user >= min_height:\n",
        "    print(\"you are tall enough to ride\")\n",
        "  else:\n",
        "    print(\"you are not tall enough to ride.May be next year.\")\n",
        "\n",
        "if __name__ == \"__main__\":\n",
        "  main()\n"
      ]
    },
    {
      "cell_type": "code",
      "execution_count": 38,
      "metadata": {
        "colab": {
          "base_uri": "https://localhost:8080/"
        },
        "id": "sJ2L15-l8l5n",
        "outputId": "f1349f2f-3aa0-40e9-d85b-88f9df0cf952"
      },
      "outputs": [
        {
          "name": "stdout",
          "output_type": "stream",
          "text": [
            "05: 10_random_numbers_between_1_and_100\n",
            "70\n",
            "54\n",
            "4\n",
            "17\n",
            "77\n",
            "76\n",
            "47\n",
            "33\n",
            "96\n",
            "93\n"
          ]
        }
      ],
      "source": [
        "import random\n",
        "print(\"05: 10_random_numbers_between_1_and_100\")\n",
        "\n",
        "def main():\n",
        "  for i in range(10):\n",
        "    num:list[int] =  random.randint(1,100)\n",
        "    print(num)\n",
        "\n",
        "if __name__ == \"__main__\":\n",
        "  main()\n"
      ]
    }
  ],
  "metadata": {
    "colab": {
      "authorship_tag": "ABX9TyPa56Czp3uil+pl7IKxGmK8",
      "include_colab_link": true,
      "provenance": []
    },
    "kernelspec": {
      "display_name": "Python 3",
      "name": "python3"
    },
    "language_info": {
      "codemirror_mode": {
        "name": "ipython",
        "version": 3
      },
      "file_extension": ".py",
      "mimetype": "text/x-python",
      "name": "python",
      "nbconvert_exporter": "python",
      "pygments_lexer": "ipython3",
      "version": "3.13.2"
    }
  },
  "nbformat": 4,
  "nbformat_minor": 0
}
