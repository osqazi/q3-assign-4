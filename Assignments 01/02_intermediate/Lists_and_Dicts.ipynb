{
  "cells": [
    {
      "cell_type": "markdown",
      "metadata": {
        "colab_type": "text",
        "id": "view-in-github"
      },
      "source": [
        "<a href=\"https://colab.research.google.com/github/soobiarao14/Assingment_4_projcet_python/blob/main/Assignments%2001/02_intermediate/02_intermediate_Lists_and_Dicts.ipynb\" target=\"_parent\"><img src=\"https://colab.research.google.com/assets/colab-badge.svg\" alt=\"Open In Colab\"/></a>"
      ]
    },
    {
      "cell_type": "code",
      "execution_count": 3,
      "metadata": {
        "colab": {
          "base_uri": "https://localhost:8080/"
        },
        "id": "U9a2C3Czqtwu",
        "outputId": "2a15768a-c06f-4bff-f8a1-b5e104693a33"
      },
      "outputs": [
        {
          "name": "stdout",
          "output_type": "stream",
          "text": [
            "Requirement already satisfied: colorama in c:\\users\\admin\\appdata\\local\\programs\\python\\python313\\lib\\site-packages (0.4.6)🎮💥 Welcome to the Pakistan Cricket Team List Manipulation Game 💥🎮\n",
            "\n",
            "***************************************************************\n",
            "\n",
            "\n",
            "Current Pakistan Cricket Team: ['Babar Azam', 'Shaheen Afridi', 'Rizwan', 'Fakhar Zaman', 'Shadab Khan', 'Haris Rauf', 'Imam-ul-Haq', 'Mohammad Nawaz', 'Mohammad Amir', 'Asif Ali']\n",
            "\n",
            "Select an operation:\n",
            "1. Access Player\n",
            "2. Modify Player\n",
            "3. Slice List\n",
            "4. Quit\n"
          ]
        },
        {
          "ename": "KeyboardInterrupt",
          "evalue": "Interrupted by user",
          "output_type": "error",
          "traceback": [
            "\u001b[1;31m---------------------------------------------------------------------------\u001b[0m",
            "\u001b[1;31mKeyboardInterrupt\u001b[0m                         Traceback (most recent call last)",
            "Cell \u001b[1;32mIn[3], line 47\u001b[0m\n\u001b[0;32m     44\u001b[0m \u001b[38;5;28mprint\u001b[39m(Fore\u001b[38;5;241m.\u001b[39mYELLOW \u001b[38;5;241m+\u001b[39m \u001b[38;5;124m\"\u001b[39m\u001b[38;5;124m3. Slice List\u001b[39m\u001b[38;5;124m\"\u001b[39m)\n\u001b[0;32m     45\u001b[0m \u001b[38;5;28mprint\u001b[39m(Fore\u001b[38;5;241m.\u001b[39mYELLOW \u001b[38;5;241m+\u001b[39m \u001b[38;5;124m\"\u001b[39m\u001b[38;5;124m4. Quit\u001b[39m\u001b[38;5;124m\"\u001b[39m)\n\u001b[1;32m---> 47\u001b[0m choice \u001b[38;5;241m=\u001b[39m \u001b[38;5;28;43minput\u001b[39;49m\u001b[43m(\u001b[49m\u001b[43mFore\u001b[49m\u001b[38;5;241;43m.\u001b[39;49m\u001b[43mGREEN\u001b[49m\u001b[43m \u001b[49m\u001b[38;5;241;43m+\u001b[39;49m\u001b[43m \u001b[49m\u001b[38;5;124;43m\"\u001b[39;49m\u001b[38;5;124;43mEnter your choice (1-4): \u001b[39;49m\u001b[38;5;124;43m\"\u001b[39;49m\u001b[43m)\u001b[49m\n\u001b[0;32m     49\u001b[0m \u001b[38;5;28;01mif\u001b[39;00m choice \u001b[38;5;241m==\u001b[39m \u001b[38;5;124m\"\u001b[39m\u001b[38;5;124m1\u001b[39m\u001b[38;5;124m\"\u001b[39m:\n\u001b[0;32m     50\u001b[0m     index \u001b[38;5;241m=\u001b[39m \u001b[38;5;28mint\u001b[39m(\u001b[38;5;28minput\u001b[39m(Fore\u001b[38;5;241m.\u001b[39mGREEN \u001b[38;5;241m+\u001b[39m \u001b[38;5;124m\"\u001b[39m\u001b[38;5;124mEnter the index of the player you want to access: \u001b[39m\u001b[38;5;124m\"\u001b[39m))\n",
            "File \u001b[1;32m~\\AppData\\Roaming\\Python\\Python313\\site-packages\\ipykernel\\kernelbase.py:1282\u001b[0m, in \u001b[0;36mKernel.raw_input\u001b[1;34m(self, prompt)\u001b[0m\n\u001b[0;32m   1280\u001b[0m     msg \u001b[38;5;241m=\u001b[39m \u001b[38;5;124m\"\u001b[39m\u001b[38;5;124mraw_input was called, but this frontend does not support input requests.\u001b[39m\u001b[38;5;124m\"\u001b[39m\n\u001b[0;32m   1281\u001b[0m     \u001b[38;5;28;01mraise\u001b[39;00m StdinNotImplementedError(msg)\n\u001b[1;32m-> 1282\u001b[0m \u001b[38;5;28;01mreturn\u001b[39;00m \u001b[38;5;28;43mself\u001b[39;49m\u001b[38;5;241;43m.\u001b[39;49m\u001b[43m_input_request\u001b[49m\u001b[43m(\u001b[49m\n\u001b[0;32m   1283\u001b[0m \u001b[43m    \u001b[49m\u001b[38;5;28;43mstr\u001b[39;49m\u001b[43m(\u001b[49m\u001b[43mprompt\u001b[49m\u001b[43m)\u001b[49m\u001b[43m,\u001b[49m\n\u001b[0;32m   1284\u001b[0m \u001b[43m    \u001b[49m\u001b[38;5;28;43mself\u001b[39;49m\u001b[38;5;241;43m.\u001b[39;49m\u001b[43m_parent_ident\u001b[49m\u001b[43m[\u001b[49m\u001b[38;5;124;43m\"\u001b[39;49m\u001b[38;5;124;43mshell\u001b[39;49m\u001b[38;5;124;43m\"\u001b[39;49m\u001b[43m]\u001b[49m\u001b[43m,\u001b[49m\n\u001b[0;32m   1285\u001b[0m \u001b[43m    \u001b[49m\u001b[38;5;28;43mself\u001b[39;49m\u001b[38;5;241;43m.\u001b[39;49m\u001b[43mget_parent\u001b[49m\u001b[43m(\u001b[49m\u001b[38;5;124;43m\"\u001b[39;49m\u001b[38;5;124;43mshell\u001b[39;49m\u001b[38;5;124;43m\"\u001b[39;49m\u001b[43m)\u001b[49m\u001b[43m,\u001b[49m\n\u001b[0;32m   1286\u001b[0m \u001b[43m    \u001b[49m\u001b[43mpassword\u001b[49m\u001b[38;5;241;43m=\u001b[39;49m\u001b[38;5;28;43;01mFalse\u001b[39;49;00m\u001b[43m,\u001b[49m\n\u001b[0;32m   1287\u001b[0m \u001b[43m\u001b[49m\u001b[43m)\u001b[49m\n",
            "File \u001b[1;32m~\\AppData\\Roaming\\Python\\Python313\\site-packages\\ipykernel\\kernelbase.py:1325\u001b[0m, in \u001b[0;36mKernel._input_request\u001b[1;34m(self, prompt, ident, parent, password)\u001b[0m\n\u001b[0;32m   1322\u001b[0m \u001b[38;5;28;01mexcept\u001b[39;00m \u001b[38;5;167;01mKeyboardInterrupt\u001b[39;00m:\n\u001b[0;32m   1323\u001b[0m     \u001b[38;5;66;03m# re-raise KeyboardInterrupt, to truncate traceback\u001b[39;00m\n\u001b[0;32m   1324\u001b[0m     msg \u001b[38;5;241m=\u001b[39m \u001b[38;5;124m\"\u001b[39m\u001b[38;5;124mInterrupted by user\u001b[39m\u001b[38;5;124m\"\u001b[39m\n\u001b[1;32m-> 1325\u001b[0m     \u001b[38;5;28;01mraise\u001b[39;00m \u001b[38;5;167;01mKeyboardInterrupt\u001b[39;00m(msg) \u001b[38;5;28;01mfrom\u001b[39;00m\u001b[38;5;250m \u001b[39m\u001b[38;5;28;01mNone\u001b[39;00m\n\u001b[0;32m   1326\u001b[0m \u001b[38;5;28;01mexcept\u001b[39;00m \u001b[38;5;167;01mException\u001b[39;00m:\n\u001b[0;32m   1327\u001b[0m     \u001b[38;5;28mself\u001b[39m\u001b[38;5;241m.\u001b[39mlog\u001b[38;5;241m.\u001b[39mwarning(\u001b[38;5;124m\"\u001b[39m\u001b[38;5;124mInvalid Message:\u001b[39m\u001b[38;5;124m\"\u001b[39m, exc_info\u001b[38;5;241m=\u001b[39m\u001b[38;5;28;01mTrue\u001b[39;00m)\n",
            "\u001b[1;31mKeyboardInterrupt\u001b[0m: Interrupted by user"
          ]
        }
      ],
      "source": [
        "!pip install colorama\n",
        "\n",
        "from colorama import Fore, Style, init\n",
        "\n",
        "from colorama import Fore, Style, init\n",
        "\n",
        "# Initialize Colorama properly\n",
        "init(autoreset=True, strip=False, convert=True)\n",
        "\n",
        "print(Fore.CYAN + \"🎮💥 Welcome to the Pakistan Cricket Team List Manipulation Game 💥🎮\")\n",
        "print(Fore.CYAN + \"***************************************************************\\n\")\n",
        "\n",
        "# Updated list with Pakistan Cricket Team\n",
        "my_list = [\"Babar Azam\", \"Shaheen Afridi\", \"Rizwan\", \"Fakhar Zaman\", \"Shadab Khan\",\n",
        "           \"Haris Rauf\", \"Imam-ul-Haq\", \"Mohammad Nawaz\", \"Mohammad Amir\", \"Asif Ali\"]\n",
        "\n",
        "def access_element(my_list, index):\n",
        "    \"\"\"Returns the element at the specified index, or an error message if out of range.\"\"\"\n",
        "    if 0 <= index < len(my_list):\n",
        "        return Fore.GREEN + f'✅ Player at index {index}: {my_list[index]}'\n",
        "    return Fore.RED + \"❌ Index out of range!\"\n",
        "\n",
        "def modify_element(my_list, index, new_value):\n",
        "    \"\"\"Modifies the element at the specified index with the new value.\"\"\"\n",
        "    if 0 <= index < len(my_list):\n",
        "        old_value = my_list[index]\n",
        "        my_list[index] = new_value\n",
        "        return Fore.YELLOW + f'🔄 Player at index {index} modified from {old_value} to {new_value}'\n",
        "    return Fore.RED + \"❌ Index out of range!\"\n",
        "\n",
        "def slice_list(my_list, start, end):\n",
        "    \"\"\"Returns a new list containing the elements from the start index to the end index (exclusive).\"\"\"\n",
        "    if 0 <= start < len(my_list) and 0 <= end <= len(my_list):\n",
        "        return Fore.CYAN + f'Sliced list: {my_list[start:end]}'\n",
        "    return Fore.RED + \"❌ Invalid slice indices!\"\n",
        "\n",
        "def list_game():\n",
        "    print(Fore.MAGENTA + \"\\n🛸 Welcome to the List Manipulation Game! 🛸\")\n",
        "\n",
        "while True:\n",
        "    print(Fore.BLUE + \"\\nCurrent Pakistan Cricket Team:\", my_list)\n",
        "\n",
        "    print(Fore.YELLOW + \"\\nSelect an operation:\")\n",
        "    print(Fore.YELLOW + \"1. Access Player\")\n",
        "    print(Fore.YELLOW + \"2. Modify Player\")\n",
        "    print(Fore.YELLOW + \"3. Slice List\")\n",
        "    print(Fore.YELLOW + \"4. Quit\")\n",
        "\n",
        "    print(Fore.GREEN + \"Enter your choice (1-4): \", end=\"\")\n",
        "    choice = input()\n",
        "\n",
        "    if choice == \"1\":\n",
        "        print(Fore.GREEN + \"Enter the index of the player you want to access: \", end=\"\")\n",
        "        index = int(input())\n",
        "        print(access_element(my_list, index))\n",
        "\n",
        "    elif choice == \"2\":\n",
        "        print(Fore.GREEN + \"Enter the index of the player you want to modify: \", end=\"\")\n",
        "        index = int(input())\n",
        "        print(Fore.GREEN + \"Enter the new name for the player: \", end=\"\")\n",
        "        new_value = input()\n",
        "        print(modify_element(my_list, index, new_value))\n",
        "\n",
        "    elif choice == \"3\":\n",
        "        print(Fore.GREEN + \"Enter the start index for the slice: \", end=\"\")\n",
        "        start = int(input())\n",
        "        print(Fore.GREEN + \"Enter the end index for the slice: \", end=\"\")\n",
        "        end = int(input())\n",
        "        print(slice_list(my_list, start, end))\n",
        "\n",
        "    elif choice == \"4\":\n",
        "        print(Fore.MAGENTA + \"🚀 Exiting the game. Thanks for playing! Goodbye! ✨\")\n",
        "        break\n",
        "\n",
        "    else:\n",
        "        print(Fore.RED + \"❌ Invalid choice! Please enter a number between 1 to 4.\")\n",
        "\n",
        "if __name__ == \"__main__\":\n",
        "    list_game()\n"
      ]
    }
  ],
  "metadata": {
    "colab": {
      "authorship_tag": "ABX9TyNp5Ss29noNTZY/vNxVuVZx",
      "include_colab_link": true,
      "provenance": []
    },
    "kernelspec": {
      "display_name": "Python 3",
      "name": "python3"
    },
    "language_info": {
      "codemirror_mode": {
        "name": "ipython",
        "version": 3
      },
      "file_extension": ".py",
      "mimetype": "text/x-python",
      "name": "python",
      "nbconvert_exporter": "python",
      "pygments_lexer": "ipython3",
      "version": "3.13.2"
    }
  },
  "nbformat": 4,
  "nbformat_minor": 0
}
