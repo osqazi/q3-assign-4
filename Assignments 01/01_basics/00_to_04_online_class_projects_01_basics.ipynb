{
  "cells": [
    {
      "cell_type": "markdown",
      "metadata": {
        "colab_type": "text",
        "id": "view-in-github"
      },
      "source": [
        "<a href=\"https://colab.research.google.com/github/soobiarao14/Assingment_4_projcet_python/blob/main/Assignments%2001/01_basics/online_class_projects_01_basics.ipynb\" target=\"_parent\"><img src=\"https://colab.research.google.com/assets/colab-badge.svg\" alt=\"Open In Colab\"/></a>"
      ]
    },
    {
      "cell_type": "code",
      "execution_count": 1,
      "metadata": {
        "colab": {
          "base_uri": "https://localhost:8080/"
        },
        "id": "brBkbFqrJFpN",
        "outputId": "28e6dd91-6e91-417c-e00b-ab2d75b2b511"
      },
      "outputs": [
        {
          "name": "stdout",
          "output_type": "stream",
          "text": [
            "00_joke_bot\n",
            "🤖 00_joke_bot is ready!\n",
            "Why do Java developers wear glasses?\n",
            "Because they can’t C#! 🤓\n"
          ]
        }
      ],
      "source": [
        "print(\"00_joke_bot\")\n",
        "PROMPT: str = \"What do you want? \"\n",
        "JOKE: str = \"Why do Java developers wear glasses?\\nBecause they can’t C#! 🤓\"\n",
        "SORRY: str = \"Sorry, I only tell jokes.\"\n",
        "\n",
        "def main():\n",
        "    print(\"🤖 00_joke_bot is ready!\")\n",
        "    user_input = input(PROMPT)\n",
        "    user_input = user_input.strip().lower()\n",
        "\n",
        "    if \"joke\" in user_input:\n",
        "        print(JOKE)\n",
        "    else:\n",
        "        print(SORRY)\n",
        "\n",
        "if __name__ == \"__main__\":\n",
        "    main()\n"
      ]
    },
    {
      "cell_type": "code",
      "execution_count": 4,
      "metadata": {
        "colab": {
          "base_uri": "https://localhost:8080/"
        },
        "id": "e8TNy7eHMeG0",
        "outputId": "23de02b0-86a3-480e-f020-4ae15cbcadb5"
      },
      "outputs": [
        {
          "name": "stdout",
          "output_type": "stream",
          "text": [
            "01_double_it\n",
            "🎲 Welcome to double_it!\n",
            "🔄 Doubling 20...\n",
            "✨ New Value: 40\n",
            "\n",
            "🔄 Doubling 40...\n",
            "✨ New Value: 80\n",
            "\n",
            "🔄 Doubling 80...\n",
            "✨ New Value: 160\n",
            "\n",
            "🎉 Done! Your number now turned more than 100!\n"
          ]
        }
      ],
      "source": [
        "\n",
        "print(\"01_double_it\")\n",
        "\n",
        "\n",
        "\n",
        "import time\n",
        "\n",
        "def main():\n",
        "    print(\"🎲 Welcome to double_it!\")\n",
        "    user_value = int(input(\"Enter a number: \"))\n",
        "\n",
        "    while user_value < 100:\n",
        "        print(f\"🔄 Doubling {user_value}...\")\n",
        "        time.sleep(0.5)\n",
        "        user_value *= 2\n",
        "        print(f\"✨ New Value: {user_value}\\n\")\n",
        "\n",
        "    print(\"🎉 Done! Your number now turned more than 100!\")\n",
        "\n",
        "if __name__ == \"__main__\":\n",
        "    main()\n"
      ]
    },
    {
      "cell_type": "code",
      "execution_count": null,
      "metadata": {
        "colab": {
          "base_uri": "https://localhost:8080/"
        },
        "id": "uh8kxCuINMtF",
        "outputId": "b7ef0377-7a89-4499-f784-615162c8616e"
      },
      "outputs": [
        {
          "name": "stdout",
          "output_type": "stream",
          "text": [
            "02_liftoff\n",
            "10\n",
            "9\n",
            "8\n",
            "7\n",
            "6\n",
            "5\n",
            "4\n",
            "3\n",
            "2\n",
            "1\n",
            "liftoff🚀\n"
          ]
        }
      ],
      "source": [
        "def main():\n",
        "    print(\"02_liftoff\")\n",
        "\n",
        "    for i in range(10, 0, -1):\n",
        "        print(i, end=\" \")\n",
        "        time.sleep(1)\n",
        "    print(\"liftoff🚀\")\n",
        "\n",
        "if __name__ == \"__main__\":\n",
        "    main()\n"
      ]
    },
    {
      "cell_type": "code",
      "execution_count": null,
      "metadata": {
        "colab": {
          "base_uri": "https://localhost:8080/"
        },
        "id": "8AOSX0EyNnCX",
        "outputId": "8c158515-15c7-44c1-b6c7-46e5a509b68c"
      },
      "outputs": [
        {
          "name": "stdout",
          "output_type": "stream",
          "text": [
            "🎯 03_guess_my_number\n",
            "\n",
            "I am thinking of a number between 1 and 100...\n",
            "Enter a guess: 4\n",
            "Your guess is too low.\n",
            "Enter a guess: 19\n",
            "Your guess is too low.\n",
            "Enter a guess: 92\n",
            "Your guess is too high.\n",
            "Enter a guess: 01\n",
            "Your guess is too low.\n",
            "Enter a guess: 89\n",
            "Your guess is too high.\n",
            "Enter a guess: 93\n",
            "Your guess is too high.\n",
            "Enter a guess: 85\n",
            "Your guess is too high.\n",
            "Enter a guess: 929\n",
            "Your guess is too high.\n",
            "Enter a guess: 14\n",
            "Your guess is too low.\n",
            "Enter a guess: 40\n",
            "Your guess is too high.\n",
            "Enter a guess: 60\n",
            "Your guess is too high.\n",
            "Enter a guess: 70\n",
            "Your guess is too high.\n",
            "Enter a guess: 100\n",
            "Your guess is too high.\n",
            "Enter a guess: 80\n",
            "Your guess is too high.\n",
            "Enter a guess: 30\n",
            "Your guess is too high.\n",
            "Enter a guess: 90\n",
            "Your guess is too high.\n",
            "Enter a guess: 72\n",
            "Your guess is too high.\n",
            "Enter a guess: 89\n",
            "Your guess is too high.\n",
            "Enter a guess: 16\n",
            "Your guess is too low.\n",
            "Enter a guess: 35\n",
            "Your guess is too high.\n",
            "Enter a guess: 67\n",
            "Your guess is too high.\n",
            "Enter a guess: 25\n",
            "Your guess is too low.\n",
            "Enter a guess: 20\n",
            "Your guess is too low.\n",
            "Enter a guess: 50\n",
            "Your guess is too high.\n",
            "Enter a guess: 25\n",
            "Your guess is too low.\n",
            "Enter a guess: 39\n",
            "Your guess is too high.\n",
            "Enter a guess: 37\n",
            "Your guess is too high.\n",
            "Enter a guess: 32\n",
            "Your guess is too high.\n",
            "Enter a guess: 29\n",
            "🎉 Congratulations! The number was 29.\n"
          ]
        }
      ],
      "source": [
        "import random\n",
        "\n",
        "def main():\n",
        "    print(\"🎯 03_guess_my_number\\n\")\n",
        "\n",
        "    secret_number = random.randint(1, 100)\n",
        "    print(\"I am thinking of a number between 1 and 100...\")\n",
        "\n",
        "    guess = int(input(\"Enter a guess: \"))\n",
        "\n",
        "    while guess != secret_number:\n",
        "        if guess < secret_number:\n",
        "            print(\"Your guess is too low.\")\n",
        "        else:\n",
        "            print(\"Your guess is too high.\")\n",
        "        guess = int(input(\"Enter a guess: \"))\n",
        "\n",
        "    print(f\"🎉 Congratulations! The number was {secret_number}.\")\n",
        "\n",
        "if __name__ == \"__main__\":\n",
        "    main()\n"
      ]
    },
    {
      "cell_type": "code",
      "execution_count": null,
      "metadata": {
        "colab": {
          "base_uri": "https://localhost:8080/"
        },
        "id": "WwXztB5EOM-8",
        "outputId": "c80e3a4e-8330-4005-af91-df441ef9d4fb"
      },
      "outputs": [
        {
          "name": "stdout",
          "output_type": "stream",
          "text": [
            "04_random_numbers\n",
            "74 23 33 93 34 84 9 90 70 61 "
          ]
        }
      ],
      "source": [
        "import random\n",
        "print(\"04_random_numbers\")\n",
        "\n",
        "def main():\n",
        "  for _ in range(10):\n",
        "    print(random.randint(1,100),end = \" \")\n",
        "\n",
        "if __name__ == \"__main__\":\n",
        "  main()\n"
      ]
    }
  ],
  "metadata": {
    "colab": {
      "authorship_tag": "ABX9TyMVOvt7AeLX0DBpX9DX8GZV",
      "include_colab_link": true,
      "provenance": []
    },
    "kernelspec": {
      "display_name": "Python 3",
      "name": "python3"
    },
    "language_info": {
      "codemirror_mode": {
        "name": "ipython",
        "version": 3
      },
      "file_extension": ".py",
      "mimetype": "text/x-python",
      "name": "python",
      "nbconvert_exporter": "python",
      "pygments_lexer": "ipython3",
      "version": "3.13.2"
    }
  },
  "nbformat": 4,
  "nbformat_minor": 0
}
