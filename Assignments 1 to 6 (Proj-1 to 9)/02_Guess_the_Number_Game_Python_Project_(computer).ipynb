{
  "nbformat": 4,
  "nbformat_minor": 0,
  "metadata": {
    "colab": {
      "provenance": []
    },
    "kernelspec": {
      "name": "python3",
      "display_name": "Python 3"
    },
    "language_info": {
      "name": "python"
    }
  },
  "cells": [
    {
      "cell_type": "code",
      "execution_count": null,
      "metadata": {
        "id": "6KEIlFoOxvBX"
      },
      "outputs": [],
      "source": [
        "import random\n",
        "\n",
        "def guess(x):\n",
        "  random_number = random.randint(1, x)\n",
        "  guess = 0\n",
        "  while guess != random_number:\n",
        "    guess = int(input(f'Guess a number between 1 and {x}: '))\n",
        "    if guess < random_number:\n",
        "      print(\"Sorry!. Guess Again. The Number is Too Low\")\n",
        "    elif guess > random_number:\n",
        "      print(\"Sorry!. Guess Again. The Number is Too High\")\n",
        "\n",
        "  print(f'Bingo! You have Guess the correct Number i.e. {random_number}')\n",
        "\n",
        "guess(10)\n"
      ]
    }
  ]
}