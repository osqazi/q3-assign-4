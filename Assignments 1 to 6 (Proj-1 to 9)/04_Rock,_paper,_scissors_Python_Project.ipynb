{
  "nbformat": 4,
  "nbformat_minor": 0,
  "metadata": {
    "colab": {
      "provenance": []
    },
    "kernelspec": {
      "name": "python3",
      "display_name": "Python 3"
    },
    "language_info": {
      "name": "python"
    }
  },
  "cells": [
    {
      "cell_type": "code",
      "execution_count": null,
      "metadata": {
        "colab": {
          "base_uri": "https://localhost:8080/"
        },
        "id": "AKqscKJnACD6",
        "outputId": "df02a6fb-65e5-455b-b78d-dd7f499d898c"
      },
      "outputs": [
        {
          "output_type": "stream",
          "name": "stdout",
          "text": [
            "What is your Choise? \"r\" for Rock, \"p\" for Paper and \"s\" for Scissors:\n",
            "s\n",
            "You Won!\n"
          ]
        }
      ],
      "source": [
        "import random\n",
        "\n",
        "def play():\n",
        "  user = input('What is your Choise? \"r\" for Rock, \"p\" for Paper and \"s\" for Scissors:\\n')\n",
        "  computer = random.choice(['r', 'p', 's'])\n",
        "  if user == computer:\n",
        "    return 'it\\'s a tie.'\n",
        "\n",
        "  if is_win(user, computer):\n",
        "    return 'You Won!'\n",
        "\n",
        "  if is_win(computer, user):\n",
        "    return 'You Lost!'\n",
        "\n",
        "# Game Logic: r > s > p > r\n",
        "def is_win(player, opponent):\n",
        "  if(player == 'r' and opponent == 's') or (player == 's' and opponent == 'p') or (player == 'p' and opponent == 'r'):\n",
        "    return True\n",
        "\n",
        "print(play())\n",
        "\n",
        "\n",
        "\n",
        "\n",
        "\n",
        "\n",
        "\n",
        "\n"
      ]
    }
  ]
}