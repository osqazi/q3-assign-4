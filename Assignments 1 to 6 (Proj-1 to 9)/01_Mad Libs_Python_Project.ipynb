{
  "nbformat": 4,
  "nbformat_minor": 0,
  "metadata": {
    "colab": {
      "provenance": []
    },
    "kernelspec": {
      "name": "python3",
      "display_name": "Python 3"
    },
    "language_info": {
      "name": "python"
    }
  },
  "cells": [
    {
      "cell_type": "code",
      "execution_count": null,
      "metadata": {
        "id": "26hKZH4nSzJT"
      },
      "outputs": [],
      "source": [
        "adjective1 = input(\"Write 1st Adjective about your friend: \")\n",
        "name = input(\"Write your friend Name: \")\n",
        "adjective2 = input(\"Write 2nd Adjective about animal: \")\n",
        "animal1 = input(\"Write 1st Animal Name: \")\n",
        "food = input(\"Write any food Name that animal eats: \")\n",
        "color = input(\"Write 2nd animal color: \")\n",
        "animal2 = input(\"Write 2nd Animal Name: \")\n",
        "adjective3 = input(\"Write 3rd Adjective about animal: \")\n",
        "emotion = input(\"Write Your Emotion: \")\n",
        "verb = input(\"Enter Verb (Past Tense) about your emotions: \")\n",
        "adjective4 = input(\"Write 4th Adjective about that day : \")\n",
        "\n",
        "madlibs = f\"\"\"Today, I went to the zoo with my {adjective1} friend {name}.\n",
        "We saw a {adjective2} {animal1} jumping up and down in its cage.\n",
        "The zookeeper told us that it loves to eat {food}.\n",
        "Then, we saw a {color} {animal2} that looked very {adjective3}.\n",
        "I was so {emotion} that I almost {verb}!.\n",
        "It was a {adjective4} day at the zoo!.\"\"\"\n",
        "print(madlibs)"
      ]
    },
    {
      "cell_type": "code",
      "source": [],
      "metadata": {
        "id": "sEQmaM5lZUJl"
      },
      "execution_count": null,
      "outputs": []
    }
  ]
}