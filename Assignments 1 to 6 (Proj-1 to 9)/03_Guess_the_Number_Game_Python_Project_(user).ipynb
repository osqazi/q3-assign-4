{
  "nbformat": 4,
  "nbformat_minor": 0,
  "metadata": {
    "colab": {
      "provenance": []
    },
    "kernelspec": {
      "name": "python3",
      "display_name": "Python 3"
    },
    "language_info": {
      "name": "python"
    }
  },
  "cells": [
    {
      "cell_type": "code",
      "execution_count": null,
      "metadata": {
        "colab": {
          "base_uri": "https://localhost:8080/"
        },
        "id": "Gh36SkV31Fyl",
        "outputId": "f454a84e-331e-4000-f53e-0b562944f52e"
      },
      "outputs": [
        {
          "output_type": "stream",
          "name": "stdout",
          "text": [
            "Is 1 too Low (L), too High (H) or Correct (C)?l\n",
            "Is 2 too Low (L), too High (H) or Correct (C)?l\n",
            "Is 7 too Low (L), too High (H) or Correct (C)?c\n",
            "Bingo! The Computer Guessed Your Number Correctly i.e. 7\n"
          ]
        }
      ],
      "source": [
        "import random\n",
        "\n",
        "def computer_guess(x):\n",
        "  low = 1\n",
        "  high = x\n",
        "  feedback = ''\n",
        "  while feedback != 'c' and low != high:\n",
        "    if low != high:\n",
        "      guess = random.randint(low, high)\n",
        "    else:\n",
        "      guess = low\n",
        "    feedback = input(f'Is {guess} too Low (L), too High (H) or Correct (C)?')\n",
        "    if feedback == 'h':\n",
        "      high = guess - 1\n",
        "    elif feedback == 'l':\n",
        "      low = guess + 1\n",
        "\n",
        "  print(f'Bingo! The Computer Guessed Your Number Correctly i.e. {guess}')\n",
        "\n",
        "computer_guess(10)\n"
      ]
    }
  ]
}