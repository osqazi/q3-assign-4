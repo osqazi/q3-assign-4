{
  "nbformat": 4,
  "nbformat_minor": 0,
  "metadata": {
    "colab": {
      "provenance": []
    },
    "kernelspec": {
      "name": "python3",
      "display_name": "Python 3"
    },
    "language_info": {
      "name": "python"
    }
  },
  "cells": [
    {
      "cell_type": "code",
      "execution_count": null,
      "metadata": {
        "colab": {
          "base_uri": "https://localhost:8080/"
        },
        "id": "C2wNruTssa9l",
        "outputId": "10e31703-19ae-4cae-ba75-db4d4f07719f"
      },
      "outputs": [
        {
          "output_type": "stream",
          "name": "stdout",
          "text": [
            "Enter the time in seconds: 10\n",
            "Timer completed!\n"
          ]
        }
      ],
      "source": [
        "import time\n",
        "\n",
        "def countdown(t):\n",
        "  while t:\n",
        "    mins, secs = divmod(t, 60)\n",
        "    timer = '{:02d}:{:02d}'.format(mins, secs)\n",
        "    print(timer, end=\"\\r\")\n",
        "    time.sleep(1)\n",
        "    t -= 1\n",
        "\n",
        "  print(\"Timer completed!\")\n",
        "\n",
        "t = input(\"Enter the time in seconds: \")\n",
        "\n",
        "countdown(int(t))\n"
      ]
    }
  ]
}