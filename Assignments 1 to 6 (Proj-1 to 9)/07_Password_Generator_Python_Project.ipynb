{
  "nbformat": 4,
  "nbformat_minor": 0,
  "metadata": {
    "colab": {
      "provenance": []
    },
    "kernelspec": {
      "name": "python3",
      "display_name": "Python 3"
    },
    "language_info": {
      "name": "python"
    }
  },
  "cells": [
    {
      "cell_type": "code",
      "execution_count": null,
      "metadata": {
        "colab": {
          "base_uri": "https://localhost:8080/"
        },
        "id": "wcFbik2cuhvI",
        "outputId": "4d420ce6-755e-43d8-d591-b3dcfdb02042"
      },
      "outputs": [
        {
          "output_type": "stream",
          "name": "stdout",
          "text": [
            "Welcome to the Password Generator App\n",
            "-------------------------------------\n",
            "\n",
            "How Many Password do you want? : 5\n",
            "Enter Length of your Desired Password (atleast 8): 6\n",
            "Password Length should be atleast 8 chars\n",
            "Enter Length of your Desired Password (atleast 8): 5\n",
            "Password Length should be atleast 8 chars\n",
            "Enter Length of your Desired Password (atleast 8): 8\n",
            "\n",
            "Here are Your Passwords\n",
            "-----------------------\n",
            "i^J8^LD6\n",
            "U%kEr1&i\n",
            "Gz3&b2*n\n",
            "E*bGdVIL\n",
            "R@UNi(wN\n"
          ]
        }
      ],
      "source": [
        "import random\n",
        "\n",
        "print('''Welcome to the Password Generator App\n",
        "-------------------------------------\\n''')\n",
        "\n",
        "chars = 'abcdefghijklmnopqrstuvwxyzABCDEFGHIJKLMNOPQRSTUVWXYZ1234567890!@#$%^&*()'\n",
        "quantity = input('How Many Password do you want? : ')\n",
        "quantity = int(quantity)\n",
        "passlength = 0\n",
        "while passlength < 8:\n",
        "  passlength = input('Enter Length of your Desired Password (atleast 8): ')\n",
        "  passlength = int(passlength)\n",
        "  if passlength < 8:\n",
        "    print('Password Length should be atleast 8 chars')\n",
        "  continue\n",
        "\n",
        "\n",
        "print('''\\nHere are Your Passwords\n",
        "-----------------------''')\n",
        "\n",
        "for pwd in range(quantity):\n",
        "    passwords = ''\n",
        "    for c in range(passlength):\n",
        "        passwords += random.choice(chars)\n",
        "    print(passwords)"
      ]
    }
  ]
}