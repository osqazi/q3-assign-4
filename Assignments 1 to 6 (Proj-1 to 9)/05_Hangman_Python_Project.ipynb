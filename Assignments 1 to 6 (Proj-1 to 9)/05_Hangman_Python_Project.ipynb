{
  "nbformat": 4,
  "nbformat_minor": 0,
  "metadata": {
    "colab": {
      "provenance": []
    },
    "kernelspec": {
      "name": "python3",
      "display_name": "Python 3"
    },
    "language_info": {
      "name": "python"
    }
  },
  "cells": [
    {
      "cell_type": "code",
      "source": [
        "import random\n",
        "import string\n",
        "from words import words\n",
        "\n",
        "def get_valid_words(words):\n",
        "  word = random.choice(words)\n",
        "  while '-' in word or ' ' in word:\n",
        "    word = random.choice(words)\n",
        "\n",
        "  return word.upper()\n",
        "\n",
        "def hangman():\n",
        "  word = get_valid_words(words)\n",
        "  word_letters = set(word)\n",
        "  alphabet = set(string.ascii_uppercase)\n",
        "  used_letters = set()\n",
        "  # Getting User Input\n",
        "\n",
        "  lives = 7\n",
        "\n",
        "  while len(word_letters) > 0 and lives > 0:\n",
        "    print('You have', lives, 'lives left and you have used this letter:', ''.join(used_letters))\n",
        "\n",
        "    word_list = [letter if letter in used_letters else '-' for letter in word]\n",
        "    print('Current word: ', ' '.join(word_list))\n",
        "\n",
        "\n",
        "\n",
        "    user_letter = input('Guess a letter: ').upper()\n",
        "    if user_letter in alphabet - used_letters:\n",
        "      used_letters.add(user_letter)\n",
        "      if user_letter in word_letters:\n",
        "        word_letters.remove(user_letter)\n",
        "\n",
        "      else:\n",
        "        lives = lives - 1\n",
        "        print('\\nYour letter,', user_letter, 'is not in the word.')\n",
        "\n",
        "    elif user_letter in used_letters:\n",
        "      print('You have already used that character. Please try again.')\n",
        "\n",
        "    else:\n",
        "      print('Invalid character. Please try again.')\n",
        "\n",
        "\n",
        "  if lives == 0:\n",
        "    print('Game Over!. Sorry. The word was', word)\n",
        "\n",
        "  else:\n",
        "    print('Hurray!. You successfully Guessed the Word!: ', word,'!!')\n",
        "\n",
        "\n",
        "\n",
        "hangman()\n",
        "\n"
      ],
      "metadata": {
        "colab": {
          "base_uri": "https://localhost:8080/"
        },
        "id": "00aPOL0QHsOb",
        "outputId": "9d03422e-4fd9-4031-9ccd-7e4e0490a3b5"
      },
      "execution_count": null,
      "outputs": [
        {
          "output_type": "stream",
          "name": "stdout",
          "text": [
            "You have 6 lives left and you have used this letter: \n",
            "Current word:  - - - -\n",
            "Guess a letter: A\n",
            "\n",
            "Your letter, A is not in the word.\n",
            "You have 5 lives left and you have used this letter: A\n",
            "Current word:  - - - -\n",
            "Guess a letter: E\n",
            "\n",
            "Your letter, E is not in the word.\n",
            "You have 4 lives left and you have used this letter: AE\n",
            "Current word:  - - - -\n",
            "Guess a letter: I\n",
            "You have 4 lives left and you have used this letter: AEI\n",
            "Current word:  - I - -\n",
            "Guess a letter: O\n",
            "\n",
            "Your letter, O is not in the word.\n",
            "You have 3 lives left and you have used this letter: OAEI\n",
            "Current word:  - I - -\n",
            "Guess a letter: M\n",
            "\n",
            "Your letter, M is not in the word.\n",
            "You have 2 lives left and you have used this letter: OAMEI\n",
            "Current word:  - I - -\n",
            "Guess a letter: N\n",
            "You have 2 lives left and you have used this letter: OAMENI\n",
            "Current word:  - I N -\n",
            "Guess a letter: P\n",
            "\n",
            "Your letter, P is not in the word.\n",
            "You have 1 lives left and you have used this letter: OAMENIP\n",
            "Current word:  - I N -\n",
            "Guess a letter: T\n",
            "\n",
            "Your letter, T is not in the word.\n",
            "Game Over!. Sorry. The word was WING\n"
          ]
        }
      ]
    }
  ]
}